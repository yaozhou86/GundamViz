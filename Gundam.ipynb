{
 "cells": [
  {
   "cell_type": "code",
   "execution_count": 1,
   "metadata": {
    "collapsed": true
   },
   "outputs": [],
   "source": [
    "# common imports\n",
    "import pandas as pd\n",
    "import networkx as nx\n",
    "import matplotlib.pyplot as plt\n",
    "import plotly\n",
    "import plotly.plotly as py\n",
    "from plotly.graph_objs import *\n",
    "\n",
    "plotly.tools.set_credentials_file(username='zhouyao0818', api_key='jK5NWZsf1kuR18tXOGla')"
   ]
  },
  {
   "cell_type": "code",
   "execution_count": 2,
   "metadata": {},
   "outputs": [
    {
     "data": {
      "text/html": [
       "<div>\n",
       "<style>\n",
       "    .dataframe thead tr:only-child th {\n",
       "        text-align: right;\n",
       "    }\n",
       "\n",
       "    .dataframe thead th {\n",
       "        text-align: left;\n",
       "    }\n",
       "\n",
       "    .dataframe tbody tr th {\n",
       "        vertical-align: top;\n",
       "    }\n",
       "</style>\n",
       "<table border=\"1\" class=\"dataframe\">\n",
       "  <thead>\n",
       "    <tr style=\"text-align: right;\">\n",
       "      <th></th>\n",
       "      <th>Series</th>\n",
       "      <th>名前</th>\n",
       "      <th>HP</th>\n",
       "      <th>EN</th>\n",
       "      <th>EXP</th>\n",
       "      <th>コスト</th>\n",
       "      <th>宇宙</th>\n",
       "      <th>空中</th>\n",
       "      <th>地上</th>\n",
       "      <th>水中</th>\n",
       "      <th>...</th>\n",
       "      <th>機動</th>\n",
       "      <th>移動</th>\n",
       "      <th>開発先A</th>\n",
       "      <th>開発先B</th>\n",
       "      <th>開発先C</th>\n",
       "      <th>開発先D</th>\n",
       "      <th>開発先A-Level</th>\n",
       "      <th>開発先B-Level</th>\n",
       "      <th>開発先C-Level</th>\n",
       "      <th>開発先D-Level</th>\n",
       "    </tr>\n",
       "  </thead>\n",
       "  <tbody>\n",
       "    <tr>\n",
       "      <th>0</th>\n",
       "      <td>機動戦士ガンダム</td>\n",
       "      <td>アッガイ</td>\n",
       "      <td>8800</td>\n",
       "      <td>98</td>\n",
       "      <td>273</td>\n",
       "      <td>15900</td>\n",
       "      <td>×</td>\n",
       "      <td>×</td>\n",
       "      <td>○</td>\n",
       "      <td>○</td>\n",
       "      <td>...</td>\n",
       "      <td>17</td>\n",
       "      <td>4</td>\n",
       "      <td>ザクII</td>\n",
       "      <td>ベアッガイ</td>\n",
       "      <td>ズゴック</td>\n",
       "      <td>-</td>\n",
       "      <td>3</td>\n",
       "      <td>5</td>\n",
       "      <td>5</td>\n",
       "      <td>-</td>\n",
       "    </tr>\n",
       "    <tr>\n",
       "      <th>1</th>\n",
       "      <td>機動戦士ガンダム</td>\n",
       "      <td>エルメス</td>\n",
       "      <td>16500</td>\n",
       "      <td>120</td>\n",
       "      <td>471</td>\n",
       "      <td>37200</td>\n",
       "      <td>◎</td>\n",
       "      <td>×</td>\n",
       "      <td>×</td>\n",
       "      <td>×</td>\n",
       "      <td>...</td>\n",
       "      <td>19</td>\n",
       "      <td>6</td>\n",
       "      <td>ジオング</td>\n",
       "      <td>キュベレイ</td>\n",
       "      <td>-</td>\n",
       "      <td>-</td>\n",
       "      <td>4</td>\n",
       "      <td>5</td>\n",
       "      <td>-</td>\n",
       "      <td>-</td>\n",
       "    </tr>\n",
       "    <tr>\n",
       "      <th>2</th>\n",
       "      <td>機動戦士ガンダム</td>\n",
       "      <td>ガンキャノン</td>\n",
       "      <td>10800</td>\n",
       "      <td>102</td>\n",
       "      <td>327</td>\n",
       "      <td>20800</td>\n",
       "      <td>○</td>\n",
       "      <td>×</td>\n",
       "      <td>○</td>\n",
       "      <td>△</td>\n",
       "      <td>...</td>\n",
       "      <td>15</td>\n",
       "      <td>4</td>\n",
       "      <td>ガンダンク</td>\n",
       "      <td>ジム・キャノンII</td>\n",
       "      <td>ガンダム</td>\n",
       "      <td>-</td>\n",
       "      <td>3</td>\n",
       "      <td>4</td>\n",
       "      <td>6</td>\n",
       "      <td>-</td>\n",
       "    </tr>\n",
       "  </tbody>\n",
       "</table>\n",
       "<p>3 rows × 22 columns</p>\n",
       "</div>"
      ],
      "text/plain": [
       "     Series       名前     HP   EN   EXP     コスト  宇宙  空中  地上  水中     ...      \\\n",
       "0  機動戦士ガンダム     アッガイ   8800   98   273   15900   ×   ×   ○   ○     ...       \n",
       "1  機動戦士ガンダム     エルメス  16500  120   471   37200   ◎   ×   ×   ×     ...       \n",
       "2  機動戦士ガンダム   ガンキャノン  10800  102   327   20800   ○   ×   ○   △     ...       \n",
       "\n",
       "    機動   移動    開発先A        開発先B   開発先C  開発先D  開発先A-Level  開発先B-Level  \\\n",
       "0   17    4    ザクII       ベアッガイ   ズゴック     -           3           5   \n",
       "1   19    6    ジオング       キュベレイ      -     -           4           5   \n",
       "2   15    4   ガンダンク   ジム・キャノンII   ガンダム     -           3           4   \n",
       "\n",
       "   開発先C-Level  開発先D-Level  \n",
       "0           5           -  \n",
       "1           -           -  \n",
       "2           6           -  \n",
       "\n",
       "[3 rows x 22 columns]"
      ]
     },
     "execution_count": 2,
     "metadata": {},
     "output_type": "execute_result"
    }
   ],
   "source": [
    "sdggg = pd.read_csv(\"sdggg_unit_data.csv\")\n",
    "sdggg.head(3)"
   ]
  },
  {
   "cell_type": "code",
   "execution_count": 3,
   "metadata": {},
   "outputs": [
    {
     "data": {
      "text/plain": [
       "(230, 22)"
      ]
     },
     "execution_count": 3,
     "metadata": {},
     "output_type": "execute_result"
    }
   ],
   "source": [
    "sdggg.shape"
   ]
  },
  {
   "cell_type": "code",
   "execution_count": 4,
   "metadata": {
    "collapsed": true
   },
   "outputs": [],
   "source": [
    "def made_graph(df, idx):\n",
    "    graph = []\n",
    "    melted = df.melt(id_vars=df.columns.values[idx])\n",
    "    for index, row in melted.iterrows():\n",
    "        if row[\"value\"]!=' -':\n",
    "            graph.append((row[df.columns.values[idx]], row[\"value\"]))\n",
    "    return graph"
   ]
  },
  {
   "cell_type": "code",
   "execution_count": 5,
   "metadata": {},
   "outputs": [
    {
     "data": {
      "text/html": [
       "<div>\n",
       "<style>\n",
       "    .dataframe thead tr:only-child th {\n",
       "        text-align: right;\n",
       "    }\n",
       "\n",
       "    .dataframe thead th {\n",
       "        text-align: left;\n",
       "    }\n",
       "\n",
       "    .dataframe tbody tr th {\n",
       "        vertical-align: top;\n",
       "    }\n",
       "</style>\n",
       "<table border=\"1\" class=\"dataframe\">\n",
       "  <thead>\n",
       "    <tr style=\"text-align: right;\">\n",
       "      <th></th>\n",
       "      <th>名前</th>\n",
       "      <th>開発先A</th>\n",
       "      <th>開発先B</th>\n",
       "      <th>開発先C</th>\n",
       "      <th>開発先D</th>\n",
       "    </tr>\n",
       "  </thead>\n",
       "  <tbody>\n",
       "    <tr>\n",
       "      <th>0</th>\n",
       "      <td>アッガイ</td>\n",
       "      <td>ザクII</td>\n",
       "      <td>ベアッガイ</td>\n",
       "      <td>ズゴック</td>\n",
       "      <td>-</td>\n",
       "    </tr>\n",
       "    <tr>\n",
       "      <th>1</th>\n",
       "      <td>エルメス</td>\n",
       "      <td>ジオング</td>\n",
       "      <td>キュベレイ</td>\n",
       "      <td>-</td>\n",
       "      <td>-</td>\n",
       "    </tr>\n",
       "  </tbody>\n",
       "</table>\n",
       "</div>"
      ],
      "text/plain": [
       "      名前   開発先A    開発先B   開発先C  開発先D\n",
       "0   アッガイ   ザクII   ベアッガイ   ズゴック     -\n",
       "1   エルメス   ジオング   キュベレイ      -     -"
      ]
     },
     "execution_count": 5,
     "metadata": {},
     "output_type": "execute_result"
    }
   ],
   "source": [
    "idx = [1,14,15,16,17]\n",
    "sdggg_shrinked = sdggg[sdggg.columns.values[idx]]\n",
    "sdggg_shrinked.head(2)"
   ]
  },
  {
   "cell_type": "code",
   "execution_count": 6,
   "metadata": {
    "collapsed": true
   },
   "outputs": [],
   "source": [
    "graph = made_graph(sdggg_shrinked,0)"
   ]
  },
  {
   "cell_type": "code",
   "execution_count": 7,
   "metadata": {
    "collapsed": true
   },
   "outputs": [],
   "source": [
    "G = nx.DiGraph()\n",
    "G.add_edges_from(graph)\n",
    "pos = nx.spring_layout(G)\n",
    "cost = dict([(row[1],row[5])for index, row in sdggg.iterrows()])"
   ]
  },
  {
   "cell_type": "code",
   "execution_count": 8,
   "metadata": {
    "collapsed": true
   },
   "outputs": [],
   "source": [
    "dmin=1\n",
    "ncenter=0\n",
    "for n in pos:\n",
    "    x,y=pos[n]\n",
    "    d=(x-0.5)**2+(y-0.5)**2\n",
    "    if d<dmin:\n",
    "        ncenter=n\n",
    "        dmin=d\n",
    "\n",
    "p=nx.single_source_shortest_path_length(G,ncenter)"
   ]
  },
  {
   "cell_type": "code",
   "execution_count": 9,
   "metadata": {},
   "outputs": [
    {
     "data": {
      "text/plain": [
       "4"
      ]
     },
     "execution_count": 9,
     "metadata": {},
     "output_type": "execute_result"
    }
   ],
   "source": [
    "edge_trace = Scatter(\n",
    "    x=[],\n",
    "    y=[],\n",
    "    line=Line(width=0.5,color='#888'),\n",
    "    hoverinfo='none',\n",
    "    mode='lines')\n",
    "\n",
    "for edge in G.edges():\n",
    "    x0, y0 = pos[edge[0]]\n",
    "    x1, y1 = pos[edge[1]]\n",
    "    edge_trace['x'] += [x0, x1, None]\n",
    "    edge_trace['y'] += [y0, y1, None]\n",
    "\n",
    "node_trace = Scatter(\n",
    "    x=[],\n",
    "    y=[],\n",
    "    text=[],\n",
    "    mode='markers',\n",
    "    hoverinfo='text',\n",
    "    marker=Marker(\n",
    "        showscale=True,\n",
    "        # colorscale options\n",
    "        # 'Greys' | 'Greens' | 'Bluered' | 'Hot' | 'Picnic' | 'Portland' |\n",
    "        # Jet' | 'RdBu' | 'Blackbody' | 'Earth' | 'Electric' | 'YIOrRd' | 'YIGnBu'\n",
    "        colorscale='YIGnBu',\n",
    "        reversescale=True,\n",
    "        color=[],\n",
    "        size=4,\n",
    "        colorbar=dict(\n",
    "            thickness=15,\n",
    "            title='Node Connections',\n",
    "            xanchor='left',\n",
    "            titleside='right'\n",
    "        ),\n",
    "        line=dict(width=2)))\n",
    "\n",
    "for node in G.nodes():\n",
    "    #x, y = G.node[node]['pos']\n",
    "    x, y = pos[node]\n",
    "    node_trace['x'].append(x)\n",
    "    node_trace['y'].append(y)\n",
    "\n",
    "node_trace[\"marker\"][\"size\"]"
   ]
  },
  {
   "cell_type": "code",
   "execution_count": 10,
   "metadata": {
    "collapsed": true
   },
   "outputs": [],
   "source": [
    "for node, adjacencies in enumerate(G.adjacency_list()):\n",
    "    node_trace['marker']['color'].append(len(adjacencies))\n",
    "#     node_info = '# of connections: '\n",
    "#     node_trace['text'].append(node_info)\n",
    "for node in enumerate(G.nodes()):\n",
    "    node_info = node[1]\n",
    "    node_trace[\"text\"].append(node_info)"
   ]
  },
  {
   "cell_type": "code",
   "execution_count": 11,
   "metadata": {},
   "outputs": [
    {
     "data": {
      "text/html": [
       "<iframe id=\"igraph\" scrolling=\"no\" style=\"border:none;\" seamless=\"seamless\" src=\"https://plot.ly/~zhouyao0818/3.embed\" height=\"525px\" width=\"100%\"></iframe>"
      ],
      "text/plain": [
       "<plotly.tools.PlotlyDisplay object>"
      ]
     },
     "execution_count": 11,
     "metadata": {},
     "output_type": "execute_result"
    }
   ],
   "source": [
    "fig = Figure(data=Data([edge_trace, node_trace]),\n",
    "             layout=Layout(\n",
    "                title='<br>Gundam Development Graph',\n",
    "                titlefont=dict(size=16),\n",
    "                showlegend=False,\n",
    "                hovermode='closest',\n",
    "                margin=dict(b=20,l=5,r=5,t=40),\n",
    "#                 arrow = True,\n",
    "#                 annotations=[ dict(\n",
    "#                     text=\"Python code: <a href='https://plot.ly/ipython-notebooks/network-graphs/'> https://plot.ly/ipython-notebooks/network-graphs/</a>\",\n",
    "#                     showarrow=False,\n",
    "#                     xref=\"paper\", yref=\"paper\",\n",
    "#                     x=0.005, y=-0.002 ) ],\n",
    "                xaxis=XAxis(showgrid=False, zeroline=False, showticklabels=False),\n",
    "                yaxis=YAxis(showgrid=False, zeroline=False, showticklabels=False)))\n",
    "\n",
    "py.iplot(fig, filename='networkx')"
   ]
  },
  {
   "cell_type": "code",
   "execution_count": null,
   "metadata": {
    "collapsed": true
   },
   "outputs": [],
   "source": []
  }
 ],
 "metadata": {
  "kernelspec": {
   "display_name": "Python 3",
   "language": "python",
   "name": "python3"
  },
  "language_info": {
   "codemirror_mode": {
    "name": "ipython",
    "version": 3
   },
   "file_extension": ".py",
   "mimetype": "text/x-python",
   "name": "python",
   "nbconvert_exporter": "python",
   "pygments_lexer": "ipython3",
   "version": "3.6.1"
  }
 },
 "nbformat": 4,
 "nbformat_minor": 2
}
